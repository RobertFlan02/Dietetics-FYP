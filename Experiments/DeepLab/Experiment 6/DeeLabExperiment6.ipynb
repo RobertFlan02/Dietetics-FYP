{
  "cells": [
    {
      "cell_type": "markdown",
      "metadata": {
        "id": "view-in-github",
        "colab_type": "text"
      },
      "source": [
        "<a href=\"https://colab.research.google.com/github/RobertFlan02/Dietetics-FYP/blob/main/Experiments/DeepLab/Experiment%206/DeeLabExperiment6.ipynb\" target=\"_parent\"><img src=\"https://colab.research.google.com/assets/colab-badge.svg\" alt=\"Open In Colab\"/></a>"
      ]
    },
    {
      "cell_type": "code",
      "execution_count": null,
      "metadata": {
        "id": "9PfRHJ8LDESi"
      },
      "outputs": [],
      "source": [
        "!mkdir -p ~/.kaggle\n",
        "!cp kaggle.json ~/.kaggle/\n",
        "!chmod 600 ~/.kaggle/kaggle.json"
      ]
    },
    {
      "cell_type": "code",
      "execution_count": null,
      "metadata": {
        "id": "BwcUbYUFGc0H"
      },
      "outputs": [],
      "source": [
        "!pip install bayesian-optimization -q"
      ]
    },
    {
      "cell_type": "code",
      "execution_count": null,
      "metadata": {
        "colab": {
          "base_uri": "https://localhost:8080/"
        },
        "id": "aUilS6p8DJDL",
        "outputId": "fc6c46c1-65dd-4703-9405-a626b67fe79c"
      },
      "outputs": [
        {
          "output_type": "stream",
          "name": "stdout",
          "text": [
            "Dataset URL: https://www.kaggle.com/datasets/eather00/eduardopachecofoodseg103\n",
            "License(s): apache-2.0\n",
            "Downloading eduardopachecofoodseg103.zip to /content\n",
            " 99% 1.16G/1.16G [00:08<00:00, 150MB/s]\n",
            "100% 1.16G/1.16G [00:08<00:00, 155MB/s]\n"
          ]
        }
      ],
      "source": [
        "!kaggle datasets download -d eather00/eduardopachecofoodseg103"
      ]
    },
    {
      "cell_type": "code",
      "execution_count": null,
      "metadata": {
        "id": "v_iIhyUIEHlD"
      },
      "outputs": [],
      "source": [
        "import zipfile\n",
        "with zipfile.ZipFile('eduardopachecofoodseg103.zip', 'r') as zip_ref:\n",
        "    zip_ref.extractall('foodseg103')"
      ]
    },
    {
      "cell_type": "markdown",
      "source": [
        "No changes in this expirement as we are simply reusing the hyperparemeters outputed in the previous expierment\n"
      ],
      "metadata": {
        "id": "CtlZiLZP2EJg"
      }
    },
    {
      "cell_type": "code",
      "execution_count": null,
      "metadata": {
        "colab": {
          "base_uri": "https://localhost:8080/",
          "height": 385
        },
        "id": "NZAauOEzDC4L",
        "outputId": "967c7680-0be3-4933-f872-7548db42a9b9"
      },
      "outputs": [
        {
          "output_type": "error",
          "ename": "ModuleNotFoundError",
          "evalue": "No module named 'bayes_opt'",
          "traceback": [
            "\u001b[0;31m---------------------------------------------------------------------------\u001b[0m",
            "\u001b[0;31mModuleNotFoundError\u001b[0m                       Traceback (most recent call last)",
            "\u001b[0;32m<ipython-input-5-42d9319da1f8>\u001b[0m in \u001b[0;36m<cell line: 0>\u001b[0;34m()\u001b[0m\n\u001b[1;32m     18\u001b[0m \u001b[0;32mfrom\u001b[0m \u001b[0msklearn\u001b[0m\u001b[0;34m.\u001b[0m\u001b[0mmodel_selection\u001b[0m \u001b[0;32mimport\u001b[0m \u001b[0mtrain_test_split\u001b[0m\u001b[0;34m\u001b[0m\u001b[0;34m\u001b[0m\u001b[0m\n\u001b[1;32m     19\u001b[0m \u001b[0;34m\u001b[0m\u001b[0m\n\u001b[0;32m---> 20\u001b[0;31m \u001b[0;32mfrom\u001b[0m \u001b[0mbayes_opt\u001b[0m \u001b[0;32mimport\u001b[0m \u001b[0mBayesianOptimization\u001b[0m\u001b[0;34m\u001b[0m\u001b[0;34m\u001b[0m\u001b[0m\n\u001b[0m\u001b[1;32m     21\u001b[0m \u001b[0;34m\u001b[0m\u001b[0m\n\u001b[1;32m     22\u001b[0m \u001b[0;31m# ==============================\u001b[0m\u001b[0;34m\u001b[0m\u001b[0;34m\u001b[0m\u001b[0m\n",
            "\u001b[0;31mModuleNotFoundError\u001b[0m: No module named 'bayes_opt'",
            "",
            "\u001b[0;31m---------------------------------------------------------------------------\u001b[0;32m\nNOTE: If your import is failing due to a missing package, you can\nmanually install dependencies using either !pip or !apt.\n\nTo view examples of installing some common dependencies, click the\n\"Open Examples\" button below.\n\u001b[0;31m---------------------------------------------------------------------------\u001b[0m\n"
          ],
          "errorDetails": {
            "actions": [
              {
                "action": "open_url",
                "actionText": "Open Examples",
                "url": "/notebooks/snippets/importing_libraries.ipynb"
              }
            ]
          }
        }
      ],
      "source": [
        "# ==============================\n",
        "# Imports\n",
        "# ==============================\n",
        "import os\n",
        "import io\n",
        "import numpy as np\n",
        "import pandas as pd\n",
        "import matplotlib.pyplot as plt\n",
        "from PIL import Image\n",
        "\n",
        "import torch\n",
        "from torch.utils.data import Dataset, DataLoader\n",
        "from torchvision import transforms\n",
        "import torch.nn as nn\n",
        "import torch.optim as optim\n",
        "from torch.optim.lr_scheduler import ReduceLROnPlateau\n",
        "from tqdm import tqdm\n",
        "from sklearn.model_selection import train_test_split\n",
        "\n",
        "from bayes_opt import BayesianOptimization\n",
        "\n",
        "# ==============================\n",
        "# Helper Functions & Classes\n",
        "# ==============================\n",
        "\n",
        "def compute_metrics_from_confusion(conf_matrix):\n",
        "    \"\"\"Compute pixel accuracy, mean IoU, and mean Dice from a confusion matrix.\"\"\"\n",
        "    pixel_acc = np.trace(conf_matrix) / conf_matrix.sum() if conf_matrix.sum() > 0 else 0\n",
        "    iou_list = []\n",
        "    dice_list = []\n",
        "    for i in range(conf_matrix.shape[0]):\n",
        "        intersection = conf_matrix[i, i]\n",
        "        union = conf_matrix[i, :].sum() + conf_matrix[:, i].sum() - conf_matrix[i, i]\n",
        "        if union == 0:\n",
        "            iou = np.nan\n",
        "            dice = np.nan\n",
        "        else:\n",
        "            iou = intersection / union\n",
        "            dice = 2 * intersection / (conf_matrix[i, :].sum() + conf_matrix[:, i].sum())\n",
        "        iou_list.append(iou)\n",
        "        dice_list.append(dice)\n",
        "    mean_iou = np.nanmean(iou_list)\n",
        "    mean_dice = np.nanmean(dice_list)\n",
        "    return pixel_acc, mean_iou, mean_dice\n",
        "\n",
        "def dice_loss_fn(pred, target, smooth=1e-6):\n",
        "    \"\"\"\n",
        "    Computes Dice loss.\n",
        "      - pred: logits from the model, shape [N, C, H, W]\n",
        "      - target: ground truth labels, shape [N, H, W]\n",
        "    \"\"\"\n",
        "    pred = torch.softmax(pred, dim=1)\n",
        "    target_one_hot = torch.nn.functional.one_hot(target, num_classes=pred.shape[1])\\\n",
        "                           .permute(0, 3, 1, 2).float().to(pred.device)\n",
        "    intersection = (pred * target_one_hot).sum(dim=(2, 3))\n",
        "    union = pred.sum(dim=(2, 3)) + target_one_hot.sum(dim=(2, 3))\n",
        "    dice = (2. * intersection + smooth) / (union + smooth)\n",
        "    return 1 - dice.mean()\n",
        "\n",
        "def classification_loss_fn(outputs, masks, num_classes):\n",
        "    \"\"\"\n",
        "    Computes a KL divergence loss between the predicted global class distribution (ignoring background)\n",
        "    and the target distribution derived from the mask.\n",
        "    \"\"\"\n",
        "    p_pred = torch.softmax(outputs, dim=1).mean(dim=[2,3])  # [N, C]\n",
        "    p_pred = p_pred[:, 1:]  # ignore background\n",
        "    N = masks.size(0)\n",
        "    target = torch.zeros((N, num_classes - 1), device=masks.device)\n",
        "    masks_np = masks.cpu().numpy()\n",
        "    for i in range(N):\n",
        "        unique = np.unique(masks_np[i])\n",
        "        for cls in unique:\n",
        "            cls = int(cls)\n",
        "            if cls > 0:\n",
        "                target[i, cls - 1] = 1\n",
        "        s = target[i].sum()\n",
        "        if s > 0:\n",
        "            target[i] /= s\n",
        "    loss_cls = nn.functional.kl_div(p_pred.log(), target, reduction='batchmean')\n",
        "    return loss_cls\n",
        "\n",
        "def boundary_loss_fn(pred, target):\n",
        "    \"\"\"\n",
        "    Computes a simple boundary loss using a Laplacian operator.\n",
        "    - pred: logits from the model, shape [N, C, H, W]\n",
        "    - target: ground truth labels, shape [N, H, W]\n",
        "    \"\"\"\n",
        "    pred = torch.softmax(pred, dim=1)  # [N, C, H, W]\n",
        "    # Define a 3x3 Laplacian kernel.\n",
        "    laplacian_kernel = torch.tensor([[0, 1, 0],\n",
        "                                     [1, -4, 1],\n",
        "                                     [0, 1, 0]], dtype=pred.dtype, device=pred.device).view(1,1,3,3)\n",
        "    boundaries_pred = []\n",
        "    for c in range(pred.shape[1]):\n",
        "        channel_pred = pred[:, c:c+1, :, :]\n",
        "        boundary_c = torch.abs(torch.nn.functional.conv2d(channel_pred, laplacian_kernel, padding=1))\n",
        "        boundaries_pred.append(boundary_c)\n",
        "    boundaries_pred = torch.cat(boundaries_pred, dim=1)  # [N, C, H, W]\n",
        "\n",
        "    target_one_hot = torch.nn.functional.one_hot(target, num_classes=pred.shape[1])\\\n",
        "                           .permute(0, 3, 1, 2).float().to(pred.device)\n",
        "    boundaries_target = []\n",
        "    for c in range(target_one_hot.shape[1]):\n",
        "        channel_target = target_one_hot[:, c:c+1, :, :]\n",
        "        boundary_c = torch.abs(torch.nn.functional.conv2d(channel_target, laplacian_kernel, padding=1))\n",
        "        boundaries_target.append(boundary_c)\n",
        "    boundaries_target = torch.cat(boundaries_target, dim=1)\n",
        "\n",
        "    loss_boundary = torch.nn.functional.l1_loss(boundaries_pred, boundaries_target)\n",
        "    return loss_boundary\n",
        "\n",
        "class JointTransform:\n",
        "    def __init__(self, flip_prob=0.5, rotation_degrees=0):\n",
        "        self.flip_prob = flip_prob\n",
        "        self.rotation_degrees = rotation_degrees\n",
        "\n",
        "    def __call__(self, img, mask):\n",
        "        if np.random.random() < self.flip_prob:\n",
        "            img = transforms.functional.hflip(img)\n",
        "            mask = transforms.functional.hflip(mask)\n",
        "        if self.rotation_degrees:\n",
        "            angle = np.random.uniform(-self.rotation_degrees, self.rotation_degrees)\n",
        "            img = transforms.functional.rotate(img, angle, interpolation=Image.BILINEAR, expand=True)\n",
        "            mask = transforms.functional.rotate(mask, angle, interpolation=Image.NEAREST, expand=True)\n",
        "        return img, mask\n",
        "\n",
        "class FoodSegDataset(Dataset):\n",
        "    def __init__(self, dataframe, img_transform=None, mask_resize=None, joint_transform=None):\n",
        "        self.df = dataframe\n",
        "        self.img_transform = img_transform\n",
        "        self.mask_resize = mask_resize\n",
        "        self.joint_transform = joint_transform\n",
        "\n",
        "    def __len__(self):\n",
        "        return len(self.df)\n",
        "\n",
        "    def __getitem__(self, idx):\n",
        "        row = self.df.iloc[idx]\n",
        "        image_dict = row['image']\n",
        "        img = Image.open(io.BytesIO(image_dict.get(\"bytes\"))).convert(\"RGB\")\n",
        "        label_dict = row['label']\n",
        "        mask = Image.open(io.BytesIO(label_dict.get(\"bytes\")))\n",
        "        if self.joint_transform is not None:\n",
        "            img, mask = self.joint_transform(img, mask)\n",
        "        if self.mask_resize:\n",
        "            mask = self.mask_resize(mask)\n",
        "        if self.img_transform:\n",
        "            img = self.img_transform(img)\n",
        "        mask = torch.from_numpy(np.array(mask)).long()\n",
        "        return img, mask\n",
        "\n",
        "# ==============================\n",
        "# Data Loading\n",
        "# ==============================\n",
        "class_mappings = pd.read_csv('/content/foodseg103/class_mappings.csv')\n",
        "id_to_food = dict(zip(class_mappings[\"Class Id\"], class_mappings[\"Class Name\"]))\n",
        "\n",
        "train_files = [\n",
        "    '/content/foodseg103/train-00000-of-00003-6bb37ec387d1825a.parquet',\n",
        "    '/content/foodseg103/train-00001-of-00003-4a1caa37147c0681.parquet',\n",
        "    '/content/foodseg103/train-00002-of-00003-c8b698399244cd95.parquet'\n",
        "]\n",
        "train_dfs = [pd.read_parquet(f) for f in train_files]\n",
        "full_train_df = pd.concat(train_dfs, ignore_index=True)\n",
        "print(\"Full training data shape:\", full_train_df.shape)\n",
        "\n",
        "train_df, test_df = train_test_split(full_train_df, test_size=0.2, random_state=42)\n",
        "print(\"Training set shape:\", train_df.shape)\n",
        "print(\"Testing set shape:\", test_df.shape)\n",
        "\n",
        "# Increase subset size for Bayesian evaluation.\n",
        "train_df_small = train_df.head(500)   # 500 training samples\n",
        "test_df_small = test_df.head(200)       # 200 test samples\n",
        "\n",
        "# ==============================\n",
        "# Bayesian Optimization Objective Function\n",
        "# ==============================\n",
        "def train_evaluate(learning_rate, flip_prob, rotation_degrees, img_scale, weight_decay,\n",
        "                   dice_weight, cls_loss_weight, unfreeze_frac, boundary_loss_weight):\n",
        "    \"\"\"\n",
        "    Trains DeepLabV3 on a small subset for a few epochs with the given hyperparameters,\n",
        "    then returns the mean IoU (mIoU) from the validation set.\n",
        "    \"\"\"\n",
        "    rotation_degrees = int(round(rotation_degrees))\n",
        "    effective_img_size = (int(round(513 * img_scale)), int(round(513 * img_scale)))\n",
        "\n",
        "    local_hparams = {\n",
        "        \"img_size\": effective_img_size,\n",
        "        \"batch_size\": 4,\n",
        "        \"num_epochs\": 5,  # Increased epochs for better convergence.\n",
        "        \"learning_rate\": learning_rate,\n",
        "        \"num_workers\": 1,\n",
        "        \"num_classes\": 104,\n",
        "        \"use_amp\": True,\n",
        "        \"flip_prob\": flip_prob,\n",
        "        \"rotation_degrees\": rotation_degrees,\n",
        "        \"weight_decay\": weight_decay,\n",
        "        \"dice_weight\": dice_weight,\n",
        "        \"cls_loss_weight\": cls_loss_weight,\n",
        "        \"unfreeze_frac\": unfreeze_frac,\n",
        "        \"boundary_loss_weight\": boundary_loss_weight\n",
        "    }\n",
        "\n",
        "    img_transform_local = transforms.Compose([\n",
        "        transforms.Resize(local_hparams[\"img_size\"]),\n",
        "        transforms.ToTensor(),\n",
        "        transforms.Normalize(mean=[0.485, 0.456, 0.406],\n",
        "                             std=[0.229, 0.224, 0.225]),\n",
        "    ])\n",
        "    mask_resize_local = transforms.Resize(local_hparams[\"img_size\"], interpolation=Image.NEAREST)\n",
        "    joint_transform_local = JointTransform(\n",
        "        flip_prob=local_hparams[\"flip_prob\"],\n",
        "        rotation_degrees=local_hparams[\"rotation_degrees\"]\n",
        "    )\n",
        "\n",
        "    train_dataset_local = FoodSegDataset(train_df_small,\n",
        "                                         img_transform=img_transform_local,\n",
        "                                         mask_resize=mask_resize_local,\n",
        "                                         joint_transform=joint_transform_local)\n",
        "    train_loader_local = DataLoader(train_dataset_local,\n",
        "                                    batch_size=local_hparams[\"batch_size\"],\n",
        "                                    shuffle=True,\n",
        "                                    num_workers=local_hparams[\"num_workers\"])\n",
        "\n",
        "    test_dataset_local = FoodSegDataset(test_df_small,\n",
        "                                        img_transform=img_transform_local,\n",
        "                                        mask_resize=mask_resize_local,\n",
        "                                        joint_transform=None)\n",
        "    test_loader_local = DataLoader(test_dataset_local,\n",
        "                                   batch_size=local_hparams[\"batch_size\"],\n",
        "                                   shuffle=False,\n",
        "                                   num_workers=local_hparams[\"num_workers\"])\n",
        "\n",
        "    # ------------------------------\n",
        "    # Build DeepLabV3 Model\n",
        "    # ------------------------------\n",
        "    model_local = torch.hub.load('pytorch/vision:v0.10.0', 'deeplabv3_resnet50', pretrained=True)\n",
        "    # Initially freeze entire backbone.\n",
        "    for param in model_local.backbone.parameters():\n",
        "        param.requires_grad = False\n",
        "    # Unfreeze the last fraction of backbone layers.\n",
        "    unfreeze_frac = local_hparams[\"unfreeze_frac\"]\n",
        "    children = list(model_local.backbone.children())\n",
        "    n_children = len(children)\n",
        "    n_unfreeze = int(unfreeze_frac * n_children)\n",
        "    print(f\"[BO] Unfreezing last {n_unfreeze} layers out of {n_children} in backbone.\")\n",
        "    if n_unfreeze > 0:\n",
        "        for child in children[-n_unfreeze:]:\n",
        "            for param in child.parameters():\n",
        "                param.requires_grad = True\n",
        "\n",
        "    model_local.classifier[4] = nn.Conv2d(256, local_hparams[\"num_classes\"], kernel_size=1)\n",
        "\n",
        "    device = torch.device(\"cuda\" if torch.cuda.is_available() else \"cpu\")\n",
        "    model_local = model_local.to(device)\n",
        "\n",
        "    criterion_local = nn.CrossEntropyLoss()\n",
        "    optimizer_local = optim.Adam(filter(lambda p: p.requires_grad, model_local.parameters()),\n",
        "                                 lr=local_hparams[\"learning_rate\"],\n",
        "                                 weight_decay=local_hparams[\"weight_decay\"])\n",
        "    scheduler_local = ReduceLROnPlateau(optimizer_local, mode='min', factor=0.5, patience=1, verbose=False)\n",
        "    scaler_local = torch.cuda.amp.GradScaler() if local_hparams[\"use_amp\"] and device.type == 'cuda' else None\n",
        "\n",
        "    # ------------------------------\n",
        "    # Training Loop\n",
        "    # ------------------------------\n",
        "    model_local.train()\n",
        "    for epoch in range(local_hparams[\"num_epochs\"]):\n",
        "        for images, masks in train_loader_local:\n",
        "            images = images.to(device)\n",
        "            masks = masks.to(device)\n",
        "            optimizer_local.zero_grad()\n",
        "            if scaler_local is not None:\n",
        "                with torch.cuda.amp.autocast():\n",
        "                    outputs = model_local(images)['out']\n",
        "                    loss_ce = criterion_local(outputs, masks)\n",
        "                    loss_dice = dice_loss_fn(outputs, masks)\n",
        "                    loss_cls = classification_loss_fn(outputs, masks, local_hparams[\"num_classes\"])\n",
        "                    loss_boundary = boundary_loss_fn(outputs, masks)\n",
        "                    loss = loss_ce + local_hparams[\"dice_weight\"] * loss_dice \\\n",
        "                           + local_hparams[\"cls_loss_weight\"] * loss_cls \\\n",
        "                           + local_hparams[\"boundary_loss_weight\"] * loss_boundary\n",
        "                scaler_local.scale(loss).backward()\n",
        "                scaler_local.step(optimizer_local)\n",
        "                scaler_local.update()\n",
        "            else:\n",
        "                outputs = model_local(images)['out']\n",
        "                loss_ce = criterion_local(outputs, masks)\n",
        "                loss_dice = dice_loss_fn(outputs, masks)\n",
        "                loss_cls = classification_loss_fn(outputs, masks, local_hparams[\"num_classes\"])\n",
        "                loss_boundary = boundary_loss_fn(outputs, masks)\n",
        "                loss = loss_ce + local_hparams[\"dice_weight\"] * loss_dice \\\n",
        "                           + local_hparams[\"cls_loss_weight\"] * loss_cls \\\n",
        "                           + local_hparams[\"boundary_loss_weight\"] * loss_boundary\n",
        "                loss.backward()\n",
        "                optimizer_local.step()\n",
        "        scheduler_local.step(loss.item())\n",
        "\n",
        "    # ------------------------------\n",
        "    # Evaluation Loop\n",
        "    # ------------------------------\n",
        "    model_local.eval()\n",
        "    test_conf_matrix = np.zeros((local_hparams[\"num_classes\"], local_hparams[\"num_classes\"]), dtype=np.int64)\n",
        "    with torch.no_grad():\n",
        "        for images, masks in test_loader_local:\n",
        "            images = images.to(device)\n",
        "            masks = masks.to(device)\n",
        "            outputs = model_local(images)['out']\n",
        "            preds = outputs.argmax(dim=1).detach().cpu().numpy()\n",
        "            targets = masks.detach().cpu().numpy()\n",
        "            preds_flat = preds.flatten()\n",
        "            targets_flat = targets.flatten()\n",
        "            batch_conf = np.bincount(\n",
        "                local_hparams[\"num_classes\"] * targets_flat + preds_flat,\n",
        "                minlength=local_hparams[\"num_classes\"]**2\n",
        "            ).reshape(local_hparams[\"num_classes\"], local_hparams[\"num_classes\"])\n",
        "            test_conf_matrix += batch_conf\n",
        "\n",
        "    _, test_mean_iou, _ = compute_metrics_from_confusion(test_conf_matrix)\n",
        "    return test_mean_iou\n",
        "\n",
        "# ==============================\n",
        "# Bayesian Optimization Setup\n",
        "# ==============================\n",
        "# New hyperparameters \"unfreeze_frac\", \"cls_loss_weight\", and \"boundary_loss_weight\" are added.\n",
        "# Narrowed search space based on previous best results:\n",
        "pbounds = {\n",
        "    'learning_rate': (0.0006, 0.0008),\n",
        "    'flip_prob': (0.2, 0.4),\n",
        "    'rotation_degrees': (10, 20),\n",
        "    'img_scale': (0.82, 0.98),\n",
        "    'weight_decay': (1e-4, 2e-4),\n",
        "    'dice_weight': (0.7, 1.0),\n",
        "    'cls_loss_weight': (0.2, 1.0),\n",
        "    'unfreeze_frac': (0.2, 0.4),\n",
        "    'boundary_loss_weight': (0.1, 0.5)\n",
        "}\n",
        "\n",
        "optimizer_bo = BayesianOptimization(\n",
        "    f=train_evaluate,\n",
        "    pbounds=pbounds,\n",
        "    random_state=42,\n",
        ")\n",
        "\n",
        "print(\"Starting Bayesian Optimization...\")\n",
        "optimizer_bo.maximize(\n",
        "    init_points=5,  # Number of random initial points.\n",
        "    n_iter=10       # Number of optimization iterations.\n",
        ")\n",
        "\n",
        "print(\"Best result found:\")\n",
        "print(optimizer_bo.max)\n"
      ]
    },
    {
      "cell_type": "markdown",
      "source": [
        "The key changes to the training code is we have drastically increased the amount of epochs as well as adding code to log individual loss components (cross-entropy, Dice, classification, boundary) in each epoch."
      ],
      "metadata": {
        "id": "5kDt1Zor3LLM"
      }
    },
    {
      "cell_type": "code",
      "execution_count": null,
      "metadata": {
        "colab": {
          "base_uri": "https://localhost:8080/",
          "height": 1000
        },
        "id": "XNmlxquyI0EW",
        "outputId": "91edd252-2adc-4b1f-eab0-fc620341cb49"
      },
      "outputs": [
        {
          "output_type": "stream",
          "name": "stdout",
          "text": [
            "Using Hyperparameters:\n",
            "  img_scale: 0.9208\n",
            "  batch_size: 4\n",
            "  num_epochs: 25\n",
            "  learning_rate: 0.0006216\n",
            "  weight_decay: 0.0001919\n",
            "  num_workers: 1\n",
            "  num_classes: 104\n",
            "  use_amp: True\n",
            "  flip_prob: 0.3935\n",
            "  rotation_degrees: 18.69\n",
            "  dice_weight: 0.9919\n",
            "  cls_loss_weight: 0.4121\n",
            "  unfreeze_frac: 0.2024\n",
            "  boundary_loss_weight: 0.1577\n",
            "  img_size: (472, 472)\n",
            "Full training data shape: (4983, 2)\n",
            "Training set shape: (3986, 2)\n",
            "Testing set shape: (997, 2)\n"
          ]
        },
        {
          "output_type": "stream",
          "name": "stderr",
          "text": [
            "Downloading: \"https://github.com/pytorch/vision/zipball/v0.10.0\" to /root/.cache/torch/hub/v0.10.0.zip\n",
            "/usr/local/lib/python3.11/dist-packages/torchvision/models/_utils.py:208: UserWarning: The parameter 'pretrained' is deprecated since 0.13 and may be removed in the future, please use 'weights' instead.\n",
            "  warnings.warn(\n",
            "/usr/local/lib/python3.11/dist-packages/torchvision/models/_utils.py:223: UserWarning: Arguments other than a weight enum or `None` for 'weights' are deprecated since 0.13 and may be removed in the future. The current behavior is equivalent to passing `weights=DeepLabV3_ResNet50_Weights.COCO_WITH_VOC_LABELS_V1`. You can also use `weights=DeepLabV3_ResNet50_Weights.DEFAULT` to get the most up-to-date weights.\n",
            "  warnings.warn(msg)\n",
            "Downloading: \"https://download.pytorch.org/models/deeplabv3_resnet50_coco-cd0a2569.pth\" to /root/.cache/torch/hub/checkpoints/deeplabv3_resnet50_coco-cd0a2569.pth\n",
            "100%|██████████| 161M/161M [00:00<00:00, 211MB/s]\n"
          ]
        },
        {
          "output_type": "stream",
          "name": "stdout",
          "text": [
            "Unfreezing last 1 layers out of 8 in backbone.\n"
          ]
        },
        {
          "output_type": "stream",
          "name": "stderr",
          "text": [
            "/usr/local/lib/python3.11/dist-packages/torch/optim/lr_scheduler.py:62: UserWarning: The verbose parameter is deprecated. Please use get_last_lr() to access the learning rate.\n",
            "  warnings.warn(\n",
            "<ipython-input-5-ae5042678eaa>:249: FutureWarning: `torch.cuda.amp.GradScaler(args...)` is deprecated. Please use `torch.amp.GradScaler('cuda', args...)` instead.\n",
            "  scaler = torch.cuda.amp.GradScaler() if OPT_HYPERPARAMS[\"use_amp\"] and device.type == 'cuda' else None\n",
            "Epoch 1/25 [Training]:   0%|          | 0/997 [00:00<?, ?it/s]<ipython-input-5-ae5042678eaa>:290: FutureWarning: `torch.cuda.amp.autocast(args...)` is deprecated. Please use `torch.amp.autocast('cuda', args...)` instead.\n",
            "  with torch.cuda.amp.autocast():\n",
            "Epoch 1/25 [Training]: 100%|██████████| 997/997 [29:37<00:00,  1.78s/it, loss=4.1260]\n"
          ]
        },
        {
          "output_type": "stream",
          "name": "stdout",
          "text": [
            "Epoch [1/25], Train Loss: 3.9373, Pixel Acc: 0.6453, mIoU: 0.0270, mDice: 0.0419\n"
          ]
        },
        {
          "output_type": "stream",
          "name": "stderr",
          "text": [
            "Epoch 1/25 [Testing]: 100%|██████████| 250/250 [02:37<00:00,  1.59it/s, loss=3.4451]\n"
          ]
        },
        {
          "output_type": "stream",
          "name": "stdout",
          "text": [
            "Epoch [1/25], Test Loss: 3.7887, Pixel Acc: 0.6052, mIoU: 0.0497, mDice: 0.0740\n",
            "New best model found and saved with Test Loss: 3.7887\n"
          ]
        },
        {
          "output_type": "stream",
          "name": "stderr",
          "text": [
            "Epoch 2/25 [Training]: 100%|██████████| 997/997 [29:32<00:00,  1.78s/it, loss=2.8443]\n"
          ]
        },
        {
          "output_type": "stream",
          "name": "stdout",
          "text": [
            "Epoch [2/25], Train Loss: 3.4715, Pixel Acc: 0.6927, mIoU: 0.0626, mDice: 0.0963\n"
          ]
        },
        {
          "output_type": "stream",
          "name": "stderr",
          "text": [
            "Epoch 2/25 [Testing]: 100%|██████████| 250/250 [02:36<00:00,  1.59it/s, loss=3.3378]\n"
          ]
        },
        {
          "output_type": "stream",
          "name": "stdout",
          "text": [
            "Epoch [2/25], Test Loss: 3.5474, Pixel Acc: 0.6273, mIoU: 0.0814, mDice: 0.1227\n",
            "New best model found and saved with Test Loss: 3.5474\n"
          ]
        },
        {
          "output_type": "stream",
          "name": "stderr",
          "text": [
            "Epoch 3/25 [Training]: 100%|██████████| 997/997 [29:27<00:00,  1.77s/it, loss=3.0003]\n"
          ]
        },
        {
          "output_type": "stream",
          "name": "stdout",
          "text": [
            "Epoch [3/25], Train Loss: 3.2814, Pixel Acc: 0.7127, mIoU: 0.0881, mDice: 0.1335\n"
          ]
        },
        {
          "output_type": "stream",
          "name": "stderr",
          "text": [
            "Epoch 3/25 [Testing]: 100%|██████████| 250/250 [02:36<00:00,  1.59it/s, loss=2.9741]\n"
          ]
        },
        {
          "output_type": "stream",
          "name": "stdout",
          "text": [
            "Epoch [3/25], Test Loss: 3.4777, Pixel Acc: 0.6422, mIoU: 0.1005, mDice: 0.1491\n",
            "New best model found and saved with Test Loss: 3.4777\n"
          ]
        },
        {
          "output_type": "stream",
          "name": "stderr",
          "text": [
            "Epoch 4/25 [Training]: 100%|██████████| 997/997 [29:21<00:00,  1.77s/it, loss=2.7040]\n"
          ]
        },
        {
          "output_type": "stream",
          "name": "stdout",
          "text": [
            "Epoch [4/25], Train Loss: 3.1680, Pixel Acc: 0.7260, mIoU: 0.1061, mDice: 0.1594\n"
          ]
        },
        {
          "output_type": "stream",
          "name": "stderr",
          "text": [
            "Epoch 4/25 [Testing]: 100%|██████████| 250/250 [02:36<00:00,  1.59it/s, loss=3.2415]\n"
          ]
        },
        {
          "output_type": "stream",
          "name": "stdout",
          "text": [
            "Epoch [4/25], Test Loss: 3.3000, Pixel Acc: 0.6571, mIoU: 0.1215, mDice: 0.1797\n",
            "New best model found and saved with Test Loss: 3.3000\n"
          ]
        },
        {
          "output_type": "stream",
          "name": "stderr",
          "text": [
            "Epoch 5/25 [Training]: 100%|██████████| 997/997 [29:17<00:00,  1.76s/it, loss=3.6561]\n"
          ]
        },
        {
          "output_type": "stream",
          "name": "stdout",
          "text": [
            "Epoch [5/25], Train Loss: 3.0851, Pixel Acc: 0.7346, mIoU: 0.1196, mDice: 0.1794\n"
          ]
        },
        {
          "output_type": "stream",
          "name": "stderr",
          "text": [
            "Epoch 5/25 [Testing]: 100%|██████████| 250/250 [02:36<00:00,  1.59it/s, loss=3.6861]\n"
          ]
        },
        {
          "output_type": "stream",
          "name": "stdout",
          "text": [
            "Epoch [5/25], Test Loss: 3.3302, Pixel Acc: 0.6542, mIoU: 0.1308, mDice: 0.1929\n"
          ]
        },
        {
          "output_type": "stream",
          "name": "stderr",
          "text": [
            "Epoch 6/25 [Training]: 100%|██████████| 997/997 [29:14<00:00,  1.76s/it, loss=3.0634]\n"
          ]
        },
        {
          "output_type": "stream",
          "name": "stdout",
          "text": [
            "Epoch [6/25], Train Loss: 3.0086, Pixel Acc: 0.7426, mIoU: 0.1359, mDice: 0.2022\n"
          ]
        },
        {
          "output_type": "stream",
          "name": "stderr",
          "text": [
            "Epoch 6/25 [Testing]: 100%|██████████| 250/250 [02:36<00:00,  1.60it/s, loss=3.1128]\n"
          ]
        },
        {
          "output_type": "stream",
          "name": "stdout",
          "text": [
            "Epoch [6/25], Test Loss: 3.1793, Pixel Acc: 0.6786, mIoU: 0.1506, mDice: 0.2201\n",
            "New best model found and saved with Test Loss: 3.1793\n"
          ]
        },
        {
          "output_type": "stream",
          "name": "stderr",
          "text": [
            "Epoch 7/25 [Training]: 100%|██████████| 997/997 [29:13<00:00,  1.76s/it, loss=3.7215]\n"
          ]
        },
        {
          "output_type": "stream",
          "name": "stdout",
          "text": [
            "Epoch [7/25], Train Loss: 2.9547, Pixel Acc: 0.7490, mIoU: 0.1469, mDice: 0.2176\n"
          ]
        },
        {
          "output_type": "stream",
          "name": "stderr",
          "text": [
            "Epoch 7/25 [Testing]: 100%|██████████| 250/250 [02:35<00:00,  1.61it/s, loss=3.1346]\n"
          ]
        },
        {
          "output_type": "stream",
          "name": "stdout",
          "text": [
            "Epoch [7/25], Test Loss: 3.1912, Pixel Acc: 0.6730, mIoU: 0.1514, mDice: 0.2220\n"
          ]
        },
        {
          "output_type": "stream",
          "name": "stderr",
          "text": [
            "Epoch 8/25 [Training]: 100%|██████████| 997/997 [29:12<00:00,  1.76s/it, loss=2.7730]\n"
          ]
        },
        {
          "output_type": "stream",
          "name": "stdout",
          "text": [
            "Epoch [8/25], Train Loss: 2.9054, Pixel Acc: 0.7550, mIoU: 0.1573, mDice: 0.2316\n"
          ]
        },
        {
          "output_type": "stream",
          "name": "stderr",
          "text": [
            "Epoch 8/25 [Testing]: 100%|██████████| 250/250 [02:34<00:00,  1.62it/s, loss=2.8099]\n"
          ]
        },
        {
          "output_type": "stream",
          "name": "stdout",
          "text": [
            "Epoch [8/25], Test Loss: 3.1421, Pixel Acc: 0.6781, mIoU: 0.1566, mDice: 0.2291\n",
            "New best model found and saved with Test Loss: 3.1421\n"
          ]
        },
        {
          "output_type": "stream",
          "name": "stderr",
          "text": [
            "Epoch 9/25 [Training]: 100%|██████████| 997/997 [29:12<00:00,  1.76s/it, loss=2.5322]\n"
          ]
        },
        {
          "output_type": "stream",
          "name": "stdout",
          "text": [
            "Epoch [9/25], Train Loss: 2.8565, Pixel Acc: 0.7608, mIoU: 0.1677, mDice: 0.2466\n"
          ]
        },
        {
          "output_type": "stream",
          "name": "stderr",
          "text": [
            "Epoch 9/25 [Testing]: 100%|██████████| 250/250 [02:33<00:00,  1.63it/s, loss=3.2740]\n"
          ]
        },
        {
          "output_type": "stream",
          "name": "stdout",
          "text": [
            "Epoch [9/25], Test Loss: 3.1147, Pixel Acc: 0.6842, mIoU: 0.1620, mDice: 0.2356\n",
            "New best model found and saved with Test Loss: 3.1147\n"
          ]
        },
        {
          "output_type": "stream",
          "name": "stderr",
          "text": [
            "Epoch 10/25 [Training]: 100%|██████████| 997/997 [29:11<00:00,  1.76s/it, loss=2.4746]\n"
          ]
        },
        {
          "output_type": "stream",
          "name": "stdout",
          "text": [
            "Epoch [10/25], Train Loss: 2.8227, Pixel Acc: 0.7635, mIoU: 0.1755, mDice: 0.2577\n"
          ]
        },
        {
          "output_type": "stream",
          "name": "stderr",
          "text": [
            "Epoch 10/25 [Testing]: 100%|██████████| 250/250 [02:33<00:00,  1.63it/s, loss=2.7554]\n"
          ]
        },
        {
          "output_type": "stream",
          "name": "stdout",
          "text": [
            "Epoch [10/25], Test Loss: 3.1395, Pixel Acc: 0.6877, mIoU: 0.1684, mDice: 0.2449\n"
          ]
        },
        {
          "output_type": "stream",
          "name": "stderr",
          "text": [
            "Epoch 11/25 [Training]: 100%|██████████| 997/997 [29:10<00:00,  1.76s/it, loss=3.1435]\n"
          ]
        },
        {
          "output_type": "stream",
          "name": "stdout",
          "text": [
            "Epoch [11/25], Train Loss: 2.7911, Pixel Acc: 0.7686, mIoU: 0.1837, mDice: 0.2687\n"
          ]
        },
        {
          "output_type": "stream",
          "name": "stderr",
          "text": [
            "Epoch 11/25 [Testing]: 100%|██████████| 250/250 [02:33<00:00,  1.63it/s, loss=2.5161]\n"
          ]
        },
        {
          "output_type": "stream",
          "name": "stdout",
          "text": [
            "Epoch [11/25], Test Loss: 3.1170, Pixel Acc: 0.6827, mIoU: 0.1695, mDice: 0.2489\n"
          ]
        },
        {
          "output_type": "stream",
          "name": "stderr",
          "text": [
            "Epoch 12/25 [Training]: 100%|██████████| 997/997 [29:10<00:00,  1.76s/it, loss=2.2779]\n"
          ]
        },
        {
          "output_type": "stream",
          "name": "stdout",
          "text": [
            "Epoch [12/25], Train Loss: 2.6467, Pixel Acc: 0.7864, mIoU: 0.2190, mDice: 0.3130\n"
          ]
        },
        {
          "output_type": "stream",
          "name": "stderr",
          "text": [
            "Epoch 12/25 [Testing]: 100%|██████████| 250/250 [02:32<00:00,  1.64it/s, loss=2.5763]\n"
          ]
        },
        {
          "output_type": "stream",
          "name": "stdout",
          "text": [
            "Epoch [12/25], Test Loss: 3.0112, Pixel Acc: 0.7035, mIoU: 0.1860, mDice: 0.2668\n",
            "New best model found and saved with Test Loss: 3.0112\n"
          ]
        },
        {
          "output_type": "stream",
          "name": "stderr",
          "text": [
            "Epoch 13/25 [Training]: 100%|██████████| 997/997 [29:09<00:00,  1.75s/it, loss=4.5702]\n"
          ]
        },
        {
          "output_type": "stream",
          "name": "stdout",
          "text": [
            "Epoch [13/25], Train Loss: 2.5986, Pixel Acc: 0.7931, mIoU: 0.2303, mDice: 0.3285\n"
          ]
        },
        {
          "output_type": "stream",
          "name": "stderr",
          "text": [
            "Epoch 13/25 [Testing]: 100%|██████████| 250/250 [02:32<00:00,  1.64it/s, loss=2.6074]\n"
          ]
        },
        {
          "output_type": "stream",
          "name": "stdout",
          "text": [
            "Epoch [13/25], Test Loss: 3.0284, Pixel Acc: 0.7029, mIoU: 0.1886, mDice: 0.2746\n"
          ]
        },
        {
          "output_type": "stream",
          "name": "stderr",
          "text": [
            "Epoch 14/25 [Training]: 100%|██████████| 997/997 [29:09<00:00,  1.75s/it, loss=1.8553]\n"
          ]
        },
        {
          "output_type": "stream",
          "name": "stdout",
          "text": [
            "Epoch [14/25], Train Loss: 2.5670, Pixel Acc: 0.7961, mIoU: 0.2406, mDice: 0.3428\n"
          ]
        },
        {
          "output_type": "stream",
          "name": "stderr",
          "text": [
            "Epoch 14/25 [Testing]: 100%|██████████| 250/250 [02:32<00:00,  1.64it/s, loss=2.6508]\n"
          ]
        },
        {
          "output_type": "stream",
          "name": "stdout",
          "text": [
            "Epoch [14/25], Test Loss: 3.0080, Pixel Acc: 0.7058, mIoU: 0.1910, mDice: 0.2766\n",
            "New best model found and saved with Test Loss: 3.0080\n"
          ]
        },
        {
          "output_type": "stream",
          "name": "stderr",
          "text": [
            "Epoch 15/25 [Training]: 100%|██████████| 997/997 [29:09<00:00,  1.75s/it, loss=3.3547]\n"
          ]
        },
        {
          "output_type": "stream",
          "name": "stdout",
          "text": [
            "Epoch [15/25], Train Loss: 2.5383, Pixel Acc: 0.8003, mIoU: 0.2501, mDice: 0.3546\n"
          ]
        },
        {
          "output_type": "stream",
          "name": "stderr",
          "text": [
            "Epoch 15/25 [Testing]: 100%|██████████| 250/250 [02:32<00:00,  1.64it/s, loss=2.2352]\n"
          ]
        },
        {
          "output_type": "stream",
          "name": "stdout",
          "text": [
            "Epoch [15/25], Test Loss: 2.9927, Pixel Acc: 0.7114, mIoU: 0.2028, mDice: 0.2928\n",
            "New best model found and saved with Test Loss: 2.9927\n"
          ]
        },
        {
          "output_type": "stream",
          "name": "stderr",
          "text": [
            "Epoch 16/25 [Training]: 100%|██████████| 997/997 [29:08<00:00,  1.75s/it, loss=2.4064]\n"
          ]
        },
        {
          "output_type": "stream",
          "name": "stdout",
          "text": [
            "Epoch [16/25], Train Loss: 2.5155, Pixel Acc: 0.8053, mIoU: 0.2675, mDice: 0.3773\n"
          ]
        },
        {
          "output_type": "stream",
          "name": "stderr",
          "text": [
            "Epoch 16/25 [Testing]: 100%|██████████| 250/250 [02:31<00:00,  1.65it/s, loss=2.4964]\n"
          ]
        },
        {
          "output_type": "stream",
          "name": "stdout",
          "text": [
            "Epoch [16/25], Test Loss: 2.9834, Pixel Acc: 0.7048, mIoU: 0.2057, mDice: 0.2977\n",
            "New best model found and saved with Test Loss: 2.9834\n"
          ]
        },
        {
          "output_type": "stream",
          "name": "stderr",
          "text": [
            "Epoch 17/25 [Training]: 100%|██████████| 997/997 [29:07<00:00,  1.75s/it, loss=2.6243]\n"
          ]
        },
        {
          "output_type": "stream",
          "name": "stdout",
          "text": [
            "Epoch [17/25], Train Loss: 2.4910, Pixel Acc: 0.8062, mIoU: 0.2681, mDice: 0.3789\n"
          ]
        },
        {
          "output_type": "stream",
          "name": "stderr",
          "text": [
            "Epoch 17/25 [Testing]: 100%|██████████| 250/250 [02:31<00:00,  1.65it/s, loss=2.3322]\n"
          ]
        },
        {
          "output_type": "stream",
          "name": "stdout",
          "text": [
            "Epoch [17/25], Test Loss: 3.0341, Pixel Acc: 0.7059, mIoU: 0.1994, mDice: 0.2897\n"
          ]
        },
        {
          "output_type": "stream",
          "name": "stderr",
          "text": [
            "Epoch 18/25 [Training]: 100%|██████████| 997/997 [29:07<00:00,  1.75s/it, loss=3.1626]\n"
          ]
        },
        {
          "output_type": "stream",
          "name": "stdout",
          "text": [
            "Epoch [18/25], Train Loss: 2.4645, Pixel Acc: 0.8111, mIoU: 0.2811, mDice: 0.3943\n"
          ]
        },
        {
          "output_type": "stream",
          "name": "stderr",
          "text": [
            "Epoch 18/25 [Testing]: 100%|██████████| 250/250 [02:31<00:00,  1.65it/s, loss=2.7345]\n"
          ]
        },
        {
          "output_type": "stream",
          "name": "stdout",
          "text": [
            "Epoch [18/25], Test Loss: 3.0062, Pixel Acc: 0.7076, mIoU: 0.2102, mDice: 0.3048\n"
          ]
        },
        {
          "output_type": "stream",
          "name": "stderr",
          "text": [
            "Epoch 19/25 [Training]: 100%|██████████| 997/997 [29:07<00:00,  1.75s/it, loss=2.4290]\n"
          ]
        },
        {
          "output_type": "stream",
          "name": "stdout",
          "text": [
            "Epoch [19/25], Train Loss: 2.3616, Pixel Acc: 0.8268, mIoU: 0.3155, mDice: 0.4346\n"
          ]
        },
        {
          "output_type": "stream",
          "name": "stderr",
          "text": [
            "Epoch 19/25 [Testing]: 100%|██████████| 250/250 [02:31<00:00,  1.65it/s, loss=2.6756]\n"
          ]
        },
        {
          "output_type": "stream",
          "name": "stdout",
          "text": [
            "Epoch [19/25], Test Loss: 2.9963, Pixel Acc: 0.7159, mIoU: 0.2221, mDice: 0.3179\n"
          ]
        },
        {
          "output_type": "stream",
          "name": "stderr",
          "text": [
            "Epoch 20/25 [Training]: 100%|██████████| 997/997 [29:07<00:00,  1.75s/it, loss=2.5040]\n"
          ]
        },
        {
          "output_type": "stream",
          "name": "stdout",
          "text": [
            "Epoch [20/25], Train Loss: 2.3301, Pixel Acc: 0.8307, mIoU: 0.3244, mDice: 0.4468\n"
          ]
        },
        {
          "output_type": "stream",
          "name": "stderr",
          "text": [
            "Epoch 20/25 [Testing]: 100%|██████████| 250/250 [02:32<00:00,  1.64it/s, loss=2.6536]\n"
          ]
        },
        {
          "output_type": "stream",
          "name": "stdout",
          "text": [
            "Epoch [20/25], Test Loss: 2.9944, Pixel Acc: 0.7124, mIoU: 0.2185, mDice: 0.3159\n"
          ]
        },
        {
          "output_type": "stream",
          "name": "stderr",
          "text": [
            "Epoch 21/25 [Training]: 100%|██████████| 997/997 [29:08<00:00,  1.75s/it, loss=2.8376]\n"
          ]
        },
        {
          "output_type": "stream",
          "name": "stdout",
          "text": [
            "Epoch [21/25], Train Loss: 2.2695, Pixel Acc: 0.8406, mIoU: 0.3484, mDice: 0.4715\n"
          ]
        },
        {
          "output_type": "stream",
          "name": "stderr",
          "text": [
            "Epoch 21/25 [Testing]: 100%|██████████| 250/250 [02:32<00:00,  1.64it/s, loss=2.2157]\n"
          ]
        },
        {
          "output_type": "stream",
          "name": "stdout",
          "text": [
            "Epoch [21/25], Test Loss: 3.0140, Pixel Acc: 0.7135, mIoU: 0.2216, mDice: 0.3189\n"
          ]
        },
        {
          "output_type": "stream",
          "name": "stderr",
          "text": [
            "Epoch 22/25 [Training]: 100%|██████████| 997/997 [29:08<00:00,  1.75s/it, loss=2.4437]\n"
          ]
        },
        {
          "output_type": "stream",
          "name": "stdout",
          "text": [
            "Epoch [22/25], Train Loss: 2.2449, Pixel Acc: 0.8450, mIoU: 0.3588, mDice: 0.4849\n"
          ]
        },
        {
          "output_type": "stream",
          "name": "stderr",
          "text": [
            "Epoch 22/25 [Testing]: 100%|██████████| 250/250 [02:32<00:00,  1.64it/s, loss=2.2221]\n"
          ]
        },
        {
          "output_type": "stream",
          "name": "stdout",
          "text": [
            "Epoch [22/25], Test Loss: 3.0029, Pixel Acc: 0.7183, mIoU: 0.2300, mDice: 0.3299\n"
          ]
        },
        {
          "output_type": "stream",
          "name": "stderr",
          "text": [
            "Epoch 23/25 [Training]: 100%|██████████| 997/997 [29:09<00:00,  1.75s/it, loss=2.1866]\n"
          ]
        },
        {
          "output_type": "stream",
          "name": "stdout",
          "text": [
            "Epoch [23/25], Train Loss: 2.2092, Pixel Acc: 0.8503, mIoU: 0.3748, mDice: 0.5013\n"
          ]
        },
        {
          "output_type": "stream",
          "name": "stderr",
          "text": [
            "Epoch 23/25 [Testing]: 100%|██████████| 250/250 [02:32<00:00,  1.64it/s, loss=2.5293]\n"
          ]
        },
        {
          "output_type": "stream",
          "name": "stdout",
          "text": [
            "Epoch [23/25], Test Loss: 2.9702, Pixel Acc: 0.7195, mIoU: 0.2307, mDice: 0.3303\n",
            "New best model found and saved with Test Loss: 2.9702\n"
          ]
        },
        {
          "output_type": "stream",
          "name": "stderr",
          "text": [
            "Epoch 24/25 [Training]: 100%|██████████| 997/997 [29:08<00:00,  1.75s/it, loss=2.3620]\n"
          ]
        },
        {
          "output_type": "stream",
          "name": "stdout",
          "text": [
            "Epoch [24/25], Train Loss: 2.2018, Pixel Acc: 0.8516, mIoU: 0.3805, mDice: 0.5075\n"
          ]
        },
        {
          "output_type": "stream",
          "name": "stderr",
          "text": [
            "Epoch 24/25 [Testing]: 100%|██████████| 250/250 [02:32<00:00,  1.64it/s, loss=2.3999]\n"
          ]
        },
        {
          "output_type": "stream",
          "name": "stdout",
          "text": [
            "Epoch [24/25], Test Loss: 3.0440, Pixel Acc: 0.7161, mIoU: 0.2233, mDice: 0.3207\n"
          ]
        },
        {
          "output_type": "stream",
          "name": "stderr",
          "text": [
            "Epoch 25/25 [Training]: 100%|██████████| 997/997 [29:08<00:00,  1.75s/it, loss=2.1118]\n"
          ]
        },
        {
          "output_type": "stream",
          "name": "stdout",
          "text": [
            "Epoch [25/25], Train Loss: 2.1896, Pixel Acc: 0.8532, mIoU: 0.3895, mDice: 0.5191\n"
          ]
        },
        {
          "output_type": "stream",
          "name": "stderr",
          "text": [
            "Epoch 25/25 [Testing]: 100%|██████████| 250/250 [02:32<00:00,  1.64it/s, loss=2.4298]\n"
          ]
        },
        {
          "output_type": "stream",
          "name": "stdout",
          "text": [
            "Epoch [25/25], Test Loss: 3.0290, Pixel Acc: 0.7176, mIoU: 0.2232, mDice: 0.3214\n"
          ]
        },
        {
          "output_type": "display_data",
          "data": {
            "text/plain": [
              "<Figure size 800x600 with 1 Axes>"
            ],
            "image/png": "[encoded data removed]"
          },
          "metadata": {}
        },
        {
          "output_type": "display_data",
          "data": {
            "text/plain": [
              "<Figure size 1200x1000 with 4 Axes>"
            ],
            "image/png": "[encoded data removed]"
          },
          "metadata": {}
        }
      ],
      "source": [
        "import os\n",
        "import io\n",
        "import numpy as np\n",
        "import pandas as pd\n",
        "import matplotlib.pyplot as plt\n",
        "from PIL import Image\n",
        "\n",
        "import torch\n",
        "from torch.utils.data import Dataset, DataLoader\n",
        "from torchvision import transforms\n",
        "import torch.nn as nn\n",
        "import torch.optim as optim\n",
        "from torch.optim.lr_scheduler import ReduceLROnPlateau\n",
        "from tqdm import tqdm\n",
        "from sklearn.model_selection import train_test_split\n",
        "\n",
        "\n",
        "# ------------------------------\n",
        "# Hyperparameters (from Bayesian Optimization)\n",
        "# ------------------------------\n",
        "OPT_HYPERPARAMS = {\n",
        "    \"img_scale\": 0.9208,\n",
        "    \"batch_size\": 4,\n",
        "    \"num_epochs\": 25,\n",
        "    \"learning_rate\": 0.0006216,\n",
        "    \"weight_decay\": 0.0001919,\n",
        "    \"num_workers\": 1,\n",
        "    \"num_classes\": 104,\n",
        "    \"use_amp\": True,\n",
        "    \"flip_prob\": 0.3935,\n",
        "    \"rotation_degrees\": 18.69,\n",
        "    \"dice_weight\": 0.9919,\n",
        "    \"cls_loss_weight\": 0.4121,\n",
        "    \"unfreeze_frac\": 0.2024,\n",
        "    \"boundary_loss_weight\": 0.1577\n",
        "}\n",
        "base_size = 513\n",
        "OPT_HYPERPARAMS[\"img_size\"] = (int(round(base_size * OPT_HYPERPARAMS[\"img_scale\"])),\n",
        "                                int(round(base_size * OPT_HYPERPARAMS[\"img_scale\"])))\n",
        "\n",
        "print(\"Using Hyperparameters:\")\n",
        "for key, value in OPT_HYPERPARAMS.items():\n",
        "    print(f\"  {key}: {value}\")\n",
        "\n",
        "# ------------------------------\n",
        "# Helper Functions & Classes\n",
        "# ------------------------------\n",
        "def compute_metrics_from_confusion(conf_matrix):\n",
        "    \"\"\"Compute pixel accuracy, mean IoU, and mean Dice from a confusion matrix.\"\"\"\n",
        "    pixel_acc = np.trace(conf_matrix) / conf_matrix.sum() if conf_matrix.sum() > 0 else 0\n",
        "    iou_list = []\n",
        "    dice_list = []\n",
        "    for i in range(conf_matrix.shape[0]):\n",
        "        intersection = conf_matrix[i, i]\n",
        "        union = conf_matrix[i, :].sum() + conf_matrix[:, i].sum() - conf_matrix[i, i]\n",
        "        if union == 0:\n",
        "            iou = np.nan\n",
        "            dice = np.nan\n",
        "        else:\n",
        "            iou = intersection / union\n",
        "            dice = 2 * intersection / (conf_matrix[i, :].sum() + conf_matrix[:, i].sum())\n",
        "        iou_list.append(iou)\n",
        "        dice_list.append(dice)\n",
        "    mean_iou = np.nanmean(iou_list)\n",
        "    mean_dice = np.nanmean(dice_list)\n",
        "    return pixel_acc, mean_iou, mean_dice\n",
        "\n",
        "def dice_loss_fn(pred, target, smooth=1e-6):\n",
        "    \"\"\"\n",
        "    Computes Dice loss.\n",
        "      - pred: logits from the model, shape [N, C, H, W]\n",
        "      - target: ground truth labels, shape [N, H, W]\n",
        "    \"\"\"\n",
        "    pred = torch.softmax(pred, dim=1)\n",
        "    target_one_hot = torch.nn.functional.one_hot(target, num_classes=pred.shape[1]) \\\n",
        "                           .permute(0, 3, 1, 2).float().to(pred.device)\n",
        "    intersection = (pred * target_one_hot).sum(dim=(2, 3))\n",
        "    union = pred.sum(dim=(2, 3)) + target_one_hot.sum(dim=(2, 3))\n",
        "    dice = (2. * intersection + smooth) / (union + smooth)\n",
        "    return 1 - dice.mean()\n",
        "\n",
        "def classification_loss_fn(outputs, masks, num_classes):\n",
        "    \"\"\"\n",
        "    Computes a KL divergence loss between the predicted global class distribution (ignoring background)\n",
        "    and the target distribution derived from the mask.\n",
        "    \"\"\"\n",
        "    p_pred = torch.softmax(outputs, dim=1).mean(dim=[2,3])\n",
        "    p_pred = p_pred[:, 1:]  # ignore background\n",
        "    N = masks.size(0)\n",
        "    target = torch.zeros((N, num_classes - 1), device=masks.device)\n",
        "    masks_np = masks.cpu().numpy()\n",
        "    for i in range(N):\n",
        "        unique = np.unique(masks_np[i])\n",
        "        for cls in unique:\n",
        "            cls = int(cls)\n",
        "            if cls > 0:\n",
        "                target[i, cls - 1] = 1\n",
        "        s = target[i].sum()\n",
        "        if s > 0:\n",
        "            target[i] /= s\n",
        "    loss_cls = nn.functional.kl_div(p_pred.log(), target, reduction='batchmean')\n",
        "    return loss_cls\n",
        "\n",
        "def boundary_loss_fn(pred, target):\n",
        "    \"\"\"\n",
        "    Computes a simple boundary loss using a Laplacian operator.\n",
        "    - pred: logits from the model, shape [N, C, H, W]\n",
        "    - target: ground truth labels, shape [N, H, W]\n",
        "    \"\"\"\n",
        "    pred = torch.softmax(pred, dim=1)\n",
        "    laplacian_kernel = torch.tensor([[0, 1, 0],\n",
        "                                     [1, -4, 1],\n",
        "                                     [0, 1, 0]], dtype=pred.dtype, device=pred.device).view(1,1,3,3)\n",
        "    boundaries_pred = []\n",
        "    for c in range(pred.shape[1]):\n",
        "        channel_pred = pred[:, c:c+1, :, :]\n",
        "        boundary_c = torch.abs(torch.nn.functional.conv2d(channel_pred, laplacian_kernel, padding=1))\n",
        "        boundaries_pred.append(boundary_c)\n",
        "    boundaries_pred = torch.cat(boundaries_pred, dim=1)\n",
        "\n",
        "    target_one_hot = torch.nn.functional.one_hot(target, num_classes=pred.shape[1]) \\\n",
        "                           .permute(0, 3, 1, 2).float().to(pred.device)\n",
        "    boundaries_target = []\n",
        "    for c in range(target_one_hot.shape[1]):\n",
        "        channel_target = target_one_hot[:, c:c+1, :, :]\n",
        "        boundary_c = torch.abs(torch.nn.functional.conv2d(channel_target, laplacian_kernel, padding=1))\n",
        "        boundaries_target.append(boundary_c)\n",
        "    boundaries_target = torch.cat(boundaries_target, dim=1)\n",
        "\n",
        "    loss_boundary = torch.nn.functional.l1_loss(boundaries_pred, boundaries_target)\n",
        "    return loss_boundary\n",
        "\n",
        "class JointTransform:\n",
        "    def __init__(self, flip_prob=0.5, rotation_degrees=0):\n",
        "        self.flip_prob = flip_prob\n",
        "        self.rotation_degrees = rotation_degrees\n",
        "\n",
        "    def __call__(self, img, mask):\n",
        "        if np.random.random() < self.flip_prob:\n",
        "            img = transforms.functional.hflip(img)\n",
        "            mask = transforms.functional.hflip(mask)\n",
        "        if self.rotation_degrees:\n",
        "            angle = np.random.uniform(-self.rotation_degrees, self.rotation_degrees)\n",
        "            img = transforms.functional.rotate(img, angle, interpolation=Image.BILINEAR, expand=True)\n",
        "            mask = transforms.functional.rotate(mask, angle, interpolation=Image.NEAREST, expand=True)\n",
        "        return img, mask\n",
        "\n",
        "class FoodSegDataset(Dataset):\n",
        "    def __init__(self, dataframe, img_transform=None, mask_resize=None, joint_transform=None):\n",
        "        self.df = dataframe\n",
        "        self.img_transform = img_transform\n",
        "        self.mask_resize = mask_resize\n",
        "        self.joint_transform = joint_transform\n",
        "\n",
        "    def __len__(self):\n",
        "        return len(self.df)\n",
        "\n",
        "    def __getitem__(self, idx):\n",
        "        row = self.df.iloc[idx]\n",
        "        image_dict = row['image']\n",
        "        img = Image.open(io.BytesIO(image_dict.get(\"bytes\"))).convert(\"RGB\")\n",
        "        label_dict = row['label']\n",
        "        mask = Image.open(io.BytesIO(label_dict.get(\"bytes\")))\n",
        "        if self.joint_transform is not None:\n",
        "            img, mask = self.joint_transform(img, mask)\n",
        "        if self.mask_resize:\n",
        "            mask = self.mask_resize(mask)\n",
        "        if self.img_transform:\n",
        "            img = self.img_transform(img)\n",
        "        mask = torch.from_numpy(np.array(mask)).long()\n",
        "        return img, mask\n",
        "\n",
        "# ------------------------------\n",
        "# Data Loading\n",
        "# ------------------------------\n",
        "class_mappings = pd.read_csv('/content/foodseg103/class_mappings.csv')\n",
        "id_to_food = dict(zip(class_mappings[\"Class Id\"], class_mappings[\"Class Name\"]))\n",
        "\n",
        "train_files = [\n",
        "    '/content/foodseg103/train-00000-of-00003-6bb37ec387d1825a.parquet',\n",
        "    '/content/foodseg103/train-00001-of-00003-4a1caa37147c0681.parquet',\n",
        "    '/content/foodseg103/train-00002-of-00003-c8b698399244cd95.parquet'\n",
        "]\n",
        "train_dfs = [pd.read_parquet(f) for f in train_files]\n",
        "full_train_df = pd.concat(train_dfs, ignore_index=True)\n",
        "print(\"Full training data shape:\", full_train_df.shape)\n",
        "\n",
        "train_df, test_df = train_test_split(full_train_df, test_size=0.2, random_state=42)\n",
        "print(\"Training set shape:\", train_df.shape)\n",
        "print(\"Testing set shape:\", test_df.shape)\n",
        "\n",
        "img_transform = transforms.Compose([\n",
        "    transforms.Resize(OPT_HYPERPARAMS[\"img_size\"]),\n",
        "    transforms.ToTensor(),\n",
        "    transforms.Normalize(mean=[0.485, 0.456, 0.406],\n",
        "                         std=[0.229, 0.224, 0.225]),\n",
        "])\n",
        "mask_resize = transforms.Resize(OPT_HYPERPARAMS[\"img_size\"], interpolation=Image.NEAREST)\n",
        "\n",
        "joint_transform = JointTransform(\n",
        "    flip_prob=OPT_HYPERPARAMS[\"flip_prob\"],\n",
        "    rotation_degrees=OPT_HYPERPARAMS[\"rotation_degrees\"]\n",
        ")\n",
        "\n",
        "train_dataset = FoodSegDataset(train_df, img_transform=img_transform,\n",
        "                               mask_resize=mask_resize, joint_transform=joint_transform)\n",
        "train_loader = DataLoader(train_dataset, batch_size=OPT_HYPERPARAMS[\"batch_size\"],\n",
        "                          shuffle=True, num_workers=OPT_HYPERPARAMS[\"num_workers\"])\n",
        "\n",
        "test_dataset = FoodSegDataset(test_df, img_transform=img_transform,\n",
        "                              mask_resize=mask_resize, joint_transform=None)\n",
        "test_loader = DataLoader(test_dataset, batch_size=OPT_HYPERPARAMS[\"batch_size\"],\n",
        "                         shuffle=False, num_workers=OPT_HYPERPARAMS[\"num_workers\"])\n",
        "\n",
        "# ------------------------------\n",
        "# Build Model\n",
        "# ------------------------------\n",
        "model = torch.hub.load('pytorch/vision:v0.10.0', 'deeplabv3_resnet50', pretrained=True)\n",
        "for param in model.backbone.parameters():\n",
        "    param.requires_grad = False\n",
        "\n",
        "# Unfreeze a fraction of backbone layers.\n",
        "unfreeze_frac = OPT_HYPERPARAMS[\"unfreeze_frac\"]\n",
        "children = list(model.backbone.children())\n",
        "n_children = len(children)\n",
        "n_unfreeze = int(unfreeze_frac * n_children)\n",
        "print(f\"Unfreezing last {n_unfreeze} layers out of {n_children} in backbone.\")\n",
        "if n_unfreeze > 0:\n",
        "    for child in children[-n_unfreeze:]:\n",
        "        for param in child.parameters():\n",
        "            param.requires_grad = True\n",
        "\n",
        "model.classifier[4] = nn.Conv2d(256, OPT_HYPERPARAMS[\"num_classes\"], kernel_size=1)\n",
        "device = torch.device(\"cuda\" if torch.cuda.is_available() else \"cpu\")\n",
        "model = model.to(device)\n",
        "\n",
        "# ------------------------------\n",
        "# Loss, Optimizer, Scheduler, and AMP Scaler\n",
        "# ------------------------------\n",
        "criterion_ce = nn.CrossEntropyLoss()\n",
        "dice_weight = OPT_HYPERPARAMS[\"dice_weight\"]\n",
        "cls_loss_weight = OPT_HYPERPARAMS[\"cls_loss_weight\"]\n",
        "boundary_loss_weight = OPT_HYPERPARAMS[\"boundary_loss_weight\"]\n",
        "\n",
        "optimizer = optim.Adam(filter(lambda p: p.requires_grad, model.parameters()),\n",
        "                       lr=OPT_HYPERPARAMS[\"learning_rate\"],\n",
        "                       weight_decay=OPT_HYPERPARAMS[\"weight_decay\"])\n",
        "scheduler = ReduceLROnPlateau(optimizer, mode='min', factor=0.5, patience=1, verbose=True)\n",
        "scaler = torch.cuda.amp.GradScaler() if OPT_HYPERPARAMS[\"use_amp\"] and device.type == 'cuda' else None\n",
        "\n",
        "# ------------------------------\n",
        "# Training and Validation Loop with Checkpointing\n",
        "# Now logs individual losses\n",
        "# ------------------------------\n",
        "train_losses = []\n",
        "val_losses = []\n",
        "best_val_loss = float('inf')\n",
        "model_save_path = \"/content/foodseg103/best_deeplabv3_resnet50_foodseg103.pth\"\n",
        "\n",
        "# We'll store separate logs for each component\n",
        "train_loss_ce_log = []\n",
        "train_loss_dice_log = []\n",
        "train_loss_cls_log = []\n",
        "train_loss_bound_log = []\n",
        "\n",
        "val_loss_ce_log = []\n",
        "val_loss_dice_log = []\n",
        "val_loss_cls_log = []\n",
        "val_loss_bound_log = []\n",
        "\n",
        "num_epochs = OPT_HYPERPARAMS[\"num_epochs\"]\n",
        "\n",
        "for epoch in range(num_epochs):\n",
        "    model.train()\n",
        "    train_loss_total = 0.0\n",
        "    train_loss_ce_epoch = 0.0\n",
        "    train_loss_dice_epoch = 0.0\n",
        "    train_loss_cls_epoch = 0.0\n",
        "    train_loss_bound_epoch = 0.0\n",
        "\n",
        "    train_conf_matrix = np.zeros((OPT_HYPERPARAMS[\"num_classes\"], OPT_HYPERPARAMS[\"num_classes\"]), dtype=np.int64)\n",
        "    train_bar = tqdm(train_loader, desc=f\"Epoch {epoch+1}/{num_epochs} [Training]\")\n",
        "\n",
        "    for images, masks in train_bar:\n",
        "        images = images.to(device)\n",
        "        masks = masks.to(device)\n",
        "        optimizer.zero_grad()\n",
        "\n",
        "        if scaler is not None:\n",
        "            with torch.cuda.amp.autocast():\n",
        "                outputs = model(images)['out']\n",
        "                loss_ce_val = criterion_ce(outputs, masks)\n",
        "                loss_dice_val = dice_loss_fn(outputs, masks)\n",
        "                loss_cls_val = classification_loss_fn(outputs, masks, OPT_HYPERPARAMS[\"num_classes\"])\n",
        "                loss_bound_val = boundary_loss_fn(outputs, masks)\n",
        "\n",
        "                loss = (loss_ce_val\n",
        "                        + dice_weight * loss_dice_val\n",
        "                        + cls_loss_weight * loss_cls_val\n",
        "                        + boundary_loss_weight * loss_bound_val)\n",
        "            scaler.scale(loss).backward()\n",
        "            scaler.step(optimizer)\n",
        "            scaler.update()\n",
        "        else:\n",
        "            outputs = model(images)['out']\n",
        "            loss_ce_val = criterion_ce(outputs, masks)\n",
        "            loss_dice_val = dice_loss_fn(outputs, masks)\n",
        "            loss_cls_val = classification_loss_fn(outputs, masks, OPT_HYPERPARAMS[\"num_classes\"])\n",
        "            loss_bound_val = boundary_loss_fn(outputs, masks)\n",
        "\n",
        "            loss = (loss_ce_val\n",
        "                    + dice_weight * loss_dice_val\n",
        "                    + cls_loss_weight * loss_cls_val\n",
        "                    + boundary_loss_weight * loss_bound_val)\n",
        "            loss.backward()\n",
        "            optimizer.step()\n",
        "\n",
        "        train_loss_total += loss.item()\n",
        "        train_loss_ce_epoch += loss_ce_val.item()\n",
        "        train_loss_dice_epoch += loss_dice_val.item()\n",
        "        train_loss_cls_epoch += loss_cls_val.item()\n",
        "        train_loss_bound_epoch += loss_bound_val.item()\n",
        "\n",
        "        preds = outputs.argmax(dim=1).detach().cpu().numpy()\n",
        "        targets = masks.detach().cpu().numpy()\n",
        "        batch_conf = np.bincount(\n",
        "            OPT_HYPERPARAMS[\"num_classes\"] * targets.flatten() + preds.flatten(),\n",
        "            minlength=OPT_HYPERPARAMS[\"num_classes\"]**2\n",
        "        ).reshape(OPT_HYPERPARAMS[\"num_classes\"], OPT_HYPERPARAMS[\"num_classes\"])\n",
        "        train_conf_matrix += batch_conf\n",
        "\n",
        "        train_bar.set_postfix(loss=f\"{loss.item():.4f}\")\n",
        "\n",
        "    # Averages for this epoch\n",
        "    avg_train_loss = train_loss_total / len(train_loader)\n",
        "    train_losses.append(avg_train_loss)\n",
        "\n",
        "    train_loss_ce_log.append(train_loss_ce_epoch / len(train_loader))\n",
        "    train_loss_dice_log.append(train_loss_dice_epoch / len(train_loader))\n",
        "    train_loss_cls_log.append(train_loss_cls_epoch / len(train_loader))\n",
        "    train_loss_bound_log.append(train_loss_bound_epoch / len(train_loader))\n",
        "\n",
        "    train_pixel_acc, train_mean_iou, train_mean_dice = compute_metrics_from_confusion(train_conf_matrix)\n",
        "    print(f\"Epoch [{epoch+1}/{num_epochs}], Train Loss: {avg_train_loss:.4f}, \"\n",
        "          f\"Pixel Acc: {train_pixel_acc:.4f}, mIoU: {train_mean_iou:.4f}, mDice: {train_mean_dice:.4f}\")\n",
        "\n",
        "    # ------------------------------\n",
        "    # Validation\n",
        "    # ------------------------------\n",
        "    model.eval()\n",
        "    test_loss_total = 0.0\n",
        "    test_loss_ce_epoch = 0.0\n",
        "    test_loss_dice_epoch = 0.0\n",
        "    test_loss_cls_epoch = 0.0\n",
        "    test_loss_bound_epoch = 0.0\n",
        "\n",
        "    test_conf_matrix = np.zeros((OPT_HYPERPARAMS[\"num_classes\"], OPT_HYPERPARAMS[\"num_classes\"]), dtype=np.int64)\n",
        "    with torch.no_grad():\n",
        "        test_bar = tqdm(test_loader, desc=f\"Epoch {epoch+1}/{num_epochs} [Testing]\")\n",
        "        for images, masks in test_bar:\n",
        "            images = images.to(device)\n",
        "            masks = masks.to(device)\n",
        "            outputs = model(images)['out']\n",
        "\n",
        "            loss_ce_val = criterion_ce(outputs, masks)\n",
        "            loss_dice_val = dice_loss_fn(outputs, masks)\n",
        "            loss_cls_val = classification_loss_fn(outputs, masks, OPT_HYPERPARAMS[\"num_classes\"])\n",
        "            loss_bound_val = boundary_loss_fn(outputs, masks)\n",
        "\n",
        "            loss = (loss_ce_val\n",
        "                    + dice_weight * loss_dice_val\n",
        "                    + cls_loss_weight * loss_cls_val\n",
        "                    + boundary_loss_weight * loss_bound_val)\n",
        "\n",
        "            test_loss_total += loss.item()\n",
        "            test_loss_ce_epoch += loss_ce_val.item()\n",
        "            test_loss_dice_epoch += loss_dice_val.item()\n",
        "            test_loss_cls_epoch += loss_cls_val.item()\n",
        "            test_loss_bound_epoch += loss_bound_val.item()\n",
        "\n",
        "            preds = outputs.argmax(dim=1).detach().cpu().numpy()\n",
        "            targets = masks.detach().cpu().numpy()\n",
        "            batch_conf = np.bincount(\n",
        "                OPT_HYPERPARAMS[\"num_classes\"] * targets.flatten() + preds.flatten(),\n",
        "                minlength=OPT_HYPERPARAMS[\"num_classes\"]**2\n",
        "            ).reshape(OPT_HYPERPARAMS[\"num_classes\"], OPT_HYPERPARAMS[\"num_classes\"])\n",
        "            test_conf_matrix += batch_conf\n",
        "\n",
        "            test_bar.set_postfix(loss=f\"{loss.item():.4f}\")\n",
        "\n",
        "    avg_test_loss = test_loss_total / len(test_loader)\n",
        "    val_losses.append(avg_test_loss)\n",
        "\n",
        "    val_loss_ce_log.append(test_loss_ce_epoch / len(test_loader))\n",
        "    val_loss_dice_log.append(test_loss_dice_epoch / len(test_loader))\n",
        "    val_loss_cls_log.append(test_loss_cls_epoch / len(test_loader))\n",
        "    val_loss_bound_log.append(test_loss_bound_epoch / len(test_loader))\n",
        "\n",
        "    test_pixel_acc, test_mean_iou, test_mean_dice = compute_metrics_from_confusion(test_conf_matrix)\n",
        "    print(f\"Epoch [{epoch+1}/{num_epochs}], Test Loss: {avg_test_loss:.4f}, \"\n",
        "          f\"Pixel Acc: {test_pixel_acc:.4f}, mIoU: {test_mean_iou:.4f}, mDice: {test_mean_dice:.4f}\")\n",
        "\n",
        "    scheduler.step(avg_test_loss)\n",
        "\n",
        "    # Save checkpoint if validation loss improved.\n",
        "    if avg_test_loss < best_val_loss:\n",
        "        best_val_loss = avg_test_loss\n",
        "        torch.save(model.state_dict(), model_save_path)\n",
        "        print(f\"New best model found and saved with Test Loss: {avg_test_loss:.4f}\")\n",
        "\n",
        "# ------------------------------\n",
        "# Plot Loss Curves\n",
        "# ------------------------------\n",
        "plt.figure(figsize=(8, 6))\n",
        "plt.plot(range(1, num_epochs+1), train_losses, label=\"Training Loss\")\n",
        "plt.plot(range(1, num_epochs+1), val_losses, label=\"Validation Loss\")\n",
        "plt.xlabel(\"Epoch\")\n",
        "plt.ylabel(\"Loss\")\n",
        "plt.title(\"Training vs. Validation Loss\")\n",
        "plt.legend()\n",
        "plt.show()\n",
        "\n",
        "# Additional: Plot each loss component\n",
        "fig, axs = plt.subplots(2, 2, figsize=(12, 10))\n",
        "axs[0, 0].plot(range(1, num_epochs+1), train_loss_ce_log, label=\"CE Train\")\n",
        "axs[0, 0].plot(range(1, num_epochs+1), val_loss_ce_log, label=\"CE Val\")\n",
        "axs[0, 0].set_title(\"Cross-Entropy Loss\")\n",
        "\n",
        "axs[0, 1].plot(range(1, num_epochs+1), train_loss_dice_log, label=\"Dice Train\")\n",
        "axs[0, 1].plot(range(1, num_epochs+1), val_loss_dice_log, label=\"Dice Val\")\n",
        "axs[0, 1].set_title(\"Dice Loss\")\n",
        "\n",
        "axs[1, 0].plot(range(1, num_epochs+1), train_loss_cls_log, label=\"Cls Train\")\n",
        "axs[1, 0].plot(range(1, num_epochs+1), val_loss_cls_log, label=\"Cls Val\")\n",
        "axs[1, 0].set_title(\"Classification Loss\")\n",
        "\n",
        "axs[1, 1].plot(range(1, num_epochs+1), train_loss_bound_log, label=\"Boundary Train\")\n",
        "axs[1, 1].plot(range(1, num_epochs+1), val_loss_bound_log, label=\"Boundary Val\")\n",
        "axs[1, 1].set_title(\"Boundary Loss\")\n",
        "\n",
        "for ax in axs.flat:\n",
        "    ax.legend()\n",
        "    ax.set_xlabel(\"Epoch\")\n",
        "    ax.set_ylabel(\"Loss Value\")\n",
        "\n",
        "plt.tight_layout()\n",
        "plt.show()\n"
      ]
    },
    {
      "cell_type": "code",
      "execution_count": null,
      "metadata": {
        "colab": {
          "base_uri": "https://localhost:8080/",
          "height": 34
        },
        "id": "zf_-bz1g_793",
        "outputId": "d568b304-04aa-49ad-97fb-fd50481b47c8"
      },
      "outputs": [
        {
          "data": {
            "application/javascript": [
              "\n",
              "    async function download(id, filename, size) {\n",
              "      if (!google.colab.kernel.accessAllowed) {\n",
              "        return;\n",
              "      }\n",
              "      const div = document.createElement('div');\n",
              "      const label = document.createElement('label');\n",
              "      label.textContent = `Downloading \"${filename}\": `;\n",
              "      div.appendChild(label);\n",
              "      const progress = document.createElement('progress');\n",
              "      progress.max = size;\n",
              "      div.appendChild(progress);\n",
              "      document.body.appendChild(div);\n",
              "\n",
              "      const buffers = [];\n",
              "      let downloaded = 0;\n",
              "\n",
              "      const channel = await google.colab.kernel.comms.open(id);\n",
              "      // Send a message to notify the kernel that we're ready.\n",
              "      channel.send({})\n",
              "\n",
              "      for await (const message of channel.messages) {\n",
              "        // Send a message to notify the kernel that we're ready.\n",
              "        channel.send({})\n",
              "        if (message.buffers) {\n",
              "          for (const buffer of message.buffers) {\n",
              "            buffers.push(buffer);\n",
              "            downloaded += buffer.byteLength;\n",
              "            progress.value = downloaded;\n",
              "          }\n",
              "        }\n",
              "      }\n",
              "      const blob = new Blob(buffers, {type: 'application/binary'});\n",
              "      const a = document.createElement('a');\n",
              "      a.href = window.URL.createObjectURL(blob);\n",
              "      a.download = filename;\n",
              "      div.appendChild(a);\n",
              "      a.click();\n",
              "      div.remove();\n",
              "    }\n",
              "  "
            ],
            "text/plain": [
              "<IPython.core.display.Javascript object>"
            ]
          },
          "metadata": {},
          "output_type": "display_data"
        },
        {
          "data": {
            "application/javascript": [
              "download(\"download_9140a6d4-7078-4387-b303-ea84e79eec52\", \"best_deeplabv3_resnet50_foodseg103.pth\", 168467520)"
            ],
            "text/plain": [
              "<IPython.core.display.Javascript object>"
            ]
          },
          "metadata": {},
          "output_type": "display_data"
        }
      ],
      "source": [
        "from google.colab import files\n",
        "files.download(\"/content/foodseg103/best_deeplabv3_resnet50_foodseg103.pth\")\n"
      ]
    },
    {
      "cell_type": "markdown",
      "source": [
        "This is the first time we are testing on of our models on the full validation set in order to get a better idea where my model is at at this stage in development"
      ],
      "metadata": {
        "id": "76a_yJNAMebW"
      }
    },
    {
      "cell_type": "code",
      "execution_count": 1,
      "metadata": {
        "colab": {
          "base_uri": "https://localhost:8080/",
          "height": 106
        },
        "id": "0-Swrlj75ff8",
        "outputId": "1076f054-e05e-4a9c-96a1-df667aa8b9a2"
      },
      "outputs": [
        {
          "output_type": "error",
          "ename": "SyntaxError",
          "evalue": "invalid decimal literal (<ipython-input-1-d762f1edf702>, line 17)",
          "traceback": [
            "\u001b[0;36m  File \u001b[0;32m\"<ipython-input-1-d762f1edf702>\"\u001b[0;36m, line \u001b[0;32m17\u001b[0m\n\u001b[0;31m    BASE_SIZE = 513ghchgchgc .,,kcgh\u001b[0m\n\u001b[0m                  ^\u001b[0m\n\u001b[0;31mSyntaxError\u001b[0m\u001b[0;31m:\u001b[0m invalid decimal literal\n"
          ]
        }
      ],
      "source": [
        "# Evaluation Code\n",
        "import numpy as np\n",
        "import pandas as pd\n",
        "import io\n",
        "import matplotlib.pyplot as plt\n",
        "from PIL import Image\n",
        "import torch\n",
        "from torchvision import transforms\n",
        "from matplotlib.colors import ListedColormap\n",
        "import torch.nn as nn\n",
        "from pyarrow.parquet import ParquetFile\n",
        "from scipy.spatial.distance import directed_hausdorff\n",
        "\n",
        "# -------------------------------------------------------\n",
        "# Updated Hyperparameters (using the training scale factor)\n",
        "# -------------------------------------------------------\n",
        "BASE_SIZE = 513ghchgchgc .,,kcgh\n",
        "IMG_SCALE = 0.9802857225639665\n",
        "IMG_SIZE = (int(round(BASE_SIZE * IMG_SCALE)), int(round(BASE_SIZE * IMG_SCALE)))\n",
        "HYPERPARAMS = {\n",
        "    \"img_size\": IMG_SIZE,    # effective image size computed as in training\n",
        "    \"num_classes\": 104,      # Number of segmentation classes\n",
        "}\n",
        "\n",
        "# Load class mappings CSV.\n",
        "class_mappings = pd.read_csv('/content/foodseg103/class_mappings.csv')\n",
        "id_to_food = dict(zip(class_mappings[\"Class Id\"], class_mappings[\"Class Name\"]))\n",
        "\n",
        "def load_model():\n",
        "    device = torch.device(\"cuda\" if torch.cuda.is_available() else \"cpu\")\n",
        "    # Load DeepLabV3 with ResNet-50 backbone; use pretrained weights to match training.\n",
        "    model = torch.hub.load('pytorch/vision:v0.10.0', 'deeplabv3_resnet50', pretrained=True)\n",
        "    # Replace the final classifier layer.\n",
        "    model.classifier[4] = nn.Conv2d(256, HYPERPARAMS[\"num_classes\"], kernel_size=1)\n",
        "    # Load the best model saved from training.\n",
        "    state_dict = torch.load(\"/content/foodseg103/best_deeplabv3_resnet50_foodseg103.pth\", map_location=device)\n",
        "    model.load_state_dict(state_dict, strict=False)\n",
        "    model.to(device)\n",
        "    model.eval()\n",
        "    return model, device\n",
        "\n",
        "# Define the image transform using the updated image size.\n",
        "img_transform = transforms.Compose([\n",
        "    transforms.Resize(HYPERPARAMS[\"img_size\"]),\n",
        "    transforms.ToTensor(),\n",
        "    transforms.Normalize(mean=[0.485, 0.456, 0.406],\n",
        "                         std=[0.229, 0.224, 0.225]),\n",
        "])\n",
        "\n",
        "def compute_segmentation_metrics(pred, target, num_classes):\n",
        "    pred, target = pred.flatten(), target.flatten()\n",
        "    pixel_acc = np.mean(pred == target)\n",
        "    iou_list, dice_list = [], []\n",
        "    for cls in range(num_classes):\n",
        "        pred_inds, target_inds = (pred == cls), (target == cls)\n",
        "        intersection, union = np.sum(pred_inds & target_inds), np.sum(pred_inds | target_inds)\n",
        "        iou = np.nan if union == 0 else intersection / union\n",
        "        dice = (2 * intersection) / (np.sum(pred_inds) + np.sum(target_inds) + 1e-8)\n",
        "        iou_list.append(iou)\n",
        "        dice_list.append(dice)\n",
        "    return pixel_acc, np.nanmean(iou_list), np.nanmean(dice_list)\n",
        "\n",
        "def hausdorff_distance_for_class(pred, target, cls):\n",
        "    pred_points, target_points = np.argwhere(pred == cls), np.argwhere(target == cls)\n",
        "    if pred_points.size == 0 or target_points.size == 0:\n",
        "        return np.nan\n",
        "    return max(directed_hausdorff(pred_points, target_points)[0],\n",
        "               directed_hausdorff(target_points, pred_points)[0])\n",
        "\n",
        "def compute_average_hausdorff(pred, target, num_classes):\n",
        "    hd_list = [hausdorff_distance_for_class(pred, target, cls) for cls in range(1, num_classes)]\n",
        "    valid_hd = [hd for hd in hd_list if not np.isnan(hd)]\n",
        "    return np.nanmean(valid_hd) if valid_hd else np.nan\n",
        "\n",
        "def stream_validation_data():\n",
        "    return ParquetFile(\"/content/foodseg103/validation-00000-of-00001-a5bfdaa5beb7006a.parquet\").iter_batches(batch_size=1)\n",
        "\n",
        "def process_image(batch, model, device, id_to_food):\n",
        "    # Load and process the input image and ground-truth mask.\n",
        "    img = Image.open(io.BytesIO(batch['image'][0].as_py()['bytes'])).convert(\"RGB\")\n",
        "    gt_mask = np.array(Image.open(io.BytesIO(batch['label'][0].as_py()['bytes'])).resize(HYPERPARAMS[\"img_size\"], Image.NEAREST))\n",
        "\n",
        "    true_ids = set(np.unique(gt_mask)) - {0}\n",
        "    true_foods = [id_to_food.get(fid, \"Unknown\") for fid in true_ids if fid in id_to_food]\n",
        "\n",
        "    # Transform the image.\n",
        "    input_tensor = img_transform(img).unsqueeze(0).to(device)\n",
        "    with torch.no_grad():\n",
        "        pred_mask = model(input_tensor)['out'][0].argmax(0).cpu().numpy()\n",
        "\n",
        "    pred_ids = set(np.unique(pred_mask)) - {0}\n",
        "\n",
        "    # --- Updated Food Accuracy Calculation ---\n",
        "    # If there are no true food items, then we assign 100% if no predictions are made.\n",
        "    if not true_ids:\n",
        "        food_accuracy = 100.0 if not pred_ids else 0.0\n",
        "    else:\n",
        "        union_ids = true_ids | pred_ids\n",
        "        intersection_ids = true_ids & pred_ids\n",
        "        food_accuracy = (len(intersection_ids) / len(union_ids)) * 100.0\n",
        "\n",
        "    pixel_acc, mean_iou, mean_dice = compute_segmentation_metrics(pred_mask, gt_mask, HYPERPARAMS[\"num_classes\"])\n",
        "    avg_hausdorff = compute_average_hausdorff(pred_mask, gt_mask, HYPERPARAMS[\"num_classes\"])\n",
        "\n",
        "    predicted_foods = [id_to_food.get(pid, \"Unknown\") for pid in pred_ids if pid in id_to_food]\n",
        "    return img, input_tensor, pred_mask, gt_mask, true_foods, predicted_foods, food_accuracy, pixel_acc, mean_iou, mean_dice, avg_hausdorff\n",
        "\n",
        "def main():\n",
        "    model, device = load_model()\n",
        "    val_stream = stream_validation_data()\n",
        "    cmap = ListedColormap(plt.cm.tab20.colors[:HYPERPARAMS[\"num_classes\"]])\n",
        "    overall_metrics = {\"pixel_acc\": [], \"mean_iou\": [], \"mean_dice\": [], \"hausdorff\": []}\n",
        "\n",
        "    for i, batch in enumerate(val_stream):\n",
        "        print(f\"\\nProcessing sample {i+1}\")\n",
        "        img, img_tensor, pred_mask, gt_mask, true_foods, predicted_foods, food_acc, pix_acc, mean_iou, mean_dice, hausdorff = process_image(batch, model, device, id_to_food)\n",
        "        overall_metrics[\"pixel_acc\"].append(pix_acc)\n",
        "        overall_metrics[\"mean_iou\"].append(mean_iou)\n",
        "        overall_metrics[\"mean_dice\"].append(mean_dice)\n",
        "        overall_metrics[\"hausdorff\"].append(hausdorff)\n",
        "\n",
        "        # Denormalize the image for display.\n",
        "        img_denorm = img_tensor.squeeze(0) * torch.tensor([0.229, 0.224, 0.225], device=device).view(3, 1, 1) \\\n",
        "                     + torch.tensor([0.485, 0.456, 0.406], device=device).view(3, 1, 1)\n",
        "        img_np = np.clip(img_denorm.permute(1, 2, 0).cpu().numpy(), 0, 1)\n",
        "\n",
        "        fig, ax = plt.subplots(1, 2, figsize=(12, 6))\n",
        "        ax[0].imshow(img_np)\n",
        "        ax[0].set_title(\"Original Image\")\n",
        "        ax[1].imshow(pred_mask, cmap=cmap, alpha=0.6)\n",
        "        ax[1].set_title(\"Predicted Mask\")\n",
        "        plt.show()\n",
        "        print(\"True food items:      \", true_foods)\n",
        "        print(\"Predicted food items: \", predicted_foods)\n",
        "        print(f\"Food Accuracy:        {food_acc:.2f}%\")\n",
        "        print(f\"Pixel Accuracy:       {pix_acc*100:.2f}%\")\n",
        "        print(f\"Mean IoU:             {mean_iou*100:.2f}%\")\n",
        "        print(f\"Mean Dice:            {mean_dice*100:.2f}%\")\n",
        "        print(f\"Avg. Hausdorff Dist.: {hausdorff:.2f} pixels\")\n",
        "\n",
        "    print(\"\\nOverall Performance Metrics:\")\n",
        "    print(f\"Avg. Pixel Accuracy: {np.mean(overall_metrics['pixel_acc'])*100:.2f}%\")\n",
        "    print(f\"Avg. Mean IoU:       {np.mean(overall_metrics['mean_iou'])*100:.2f}%\")\n",
        "    print(f\"Avg. Mean Dice:      {np.mean(overall_metrics['mean_dice'])*100:.2f}%\")\n",
        "    print(f\"Avg. Hausdorff Dist.: {np.nanmean(overall_metrics['hausdorff']):.2f} pixels\")\n",
        "\n",
        "if __name__ == \"__main__\":\n",
        "    main()"
      ]
    },
    {
      "cell_type": "code",
      "execution_count": null,
      "metadata": {
        "colab": {
          "base_uri": "https://localhost:8080/"
        },
        "id": "v1jFkl_-i-Kp",
        "outputId": "6e2c2054-672e-4383-b946-52711ea3d905"
      },
      "outputs": [
        {
          "name": "stdout",
          "output_type": "stream",
          "text": [
            "00000000: ca5c 08ba 5226 f8bb 30bf 8c3b 7284 ee3a  .\\..R&..0..;r..:\n",
            "00000010: 4b08 363a 9c5a 0dbc d7df bc3b 4bc1 04bc  K.6:.Z.....;K...\n",
            "00000020: 48ad 71bb c612 e13b 30ae 0f39 6c4f 00bc  H.q....;0..9lO..\n",
            "00000030: 7648 0d3c d012 a6bb 005a ab3a 033a b739  vH.<.....Z.:.:.9\n",
            "00000040: 5ad2 943c b9fb 4d3a 1d7d eabb 2cfd 87b9  Z..<..M:.}..,...\n",
            "00000050: 92cf 9ebc edb0 ddba 9393 483b 6106 b03b  ..........H;a..;\n",
            "00000060: 1f9c ef3a 2843 63bb 85f3 82ba 7268 ddbb  ...:(Cc.....rh..\n",
            "00000070: ab01 adbb 9c31 ea3a b271 f23a 69ef 14bc  .....1.:.q.:i...\n",
            "00000080: bd75 15bc c581 5c3c cc97 ffbb 5df0 b2ba  .u....\\<....]...\n",
            "00000090: 2806 6339 07bd 78bc a957 233b 4bcd d63b  (.c9..x..W#;K..;\n"
          ]
        }
      ],
      "source": [
        "!xxd /content/foodseg103/deeplabv3_resnet50_foodseg103.pth | head"
      ]
    }
  ],
  "metadata": {
    "accelerator": "GPU",
    "colab": {
      "gpuType": "T4",
      "machine_shape": "hm",
      "provenance": [],
      "authorship_tag": "ABX9TyMFL7GUPe8U6YcmxhHEAKwq",
      "include_colab_link": true
    },
    "kernelspec": {
      "display_name": "Python 3",
      "name": "python3"
    },
    "language_info": {
      "name": "python"
    }
  },
  "nbformat": 4,
  "nbformat_minor": 0
}